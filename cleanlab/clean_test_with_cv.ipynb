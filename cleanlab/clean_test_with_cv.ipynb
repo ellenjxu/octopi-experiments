{
 "cells": [
  {
   "cell_type": "code",
   "execution_count": 12,
   "metadata": {},
   "outputs": [],
   "source": [
    "# https://docs.cleanlab.ai/stable/tutorials/image.html\n",
    "\n",
    "import torch\n",
    "from torch import nn\n",
    "import torchvision.models\n",
    "from sklearn.datasets import fetch_openml\n",
    "from sklearn.model_selection import cross_val_predict\n",
    "from sklearn.metrics import accuracy_score\n",
    "# from skorch import NeuralNetBinaryClassifier\n",
    "from skorch import NeuralNetClassifier\n",
    "import numpy as np\n",
    "from torchvision import models\n",
    "\n",
    "max_epochs = 5\n",
    "num_crossval_folds = 5  # for efficiency; values like 5 or 10 will generally work better\n",
    "\n",
    "# define the network\n",
    "# model.py\n",
    "models_dict = {'resnet18': torchvision.models.resnet18,\n",
    "               'resnet34': torchvision.models.resnet34,\n",
    "               'resnet50': torchvision.models.resnet50,\n",
    "               'resnet101': torchvision.models.resnet101,\n",
    "               'resnet152': torchvision.models.resnet152}\n",
    "\n",
    "\n",
    "# model_specs = {'model_name':'resnet34','n_channels':4,'n_filters':64,'n_classes':len(ann_dict)-1,'kernel_size':3,'stride':1,'padding':1, 'batch_size':32}\n",
    "class ResNet(nn.Module):\n",
    "    def __init__(self, model='resnet34',n_channels=4,n_filters=64,n_classes=2,kernel_size=3,stride=1,padding=1): # n_classes=1\n",
    "        super().__init__()\n",
    "        self.n_classes = n_classes\n",
    "        self.base_model = models_dict[model](pretrained=True)\n",
    "        self._feature_vector_dimension = self.base_model.fc.in_features\n",
    "        self.base_model.conv1 = nn.Conv2d(n_channels, n_filters, kernel_size=kernel_size, stride=stride, padding=padding, bias=False)\n",
    "        self.base_model = nn.Sequential(*list(self.base_model.children())[:-1]) # Remove the final fully connected layer\n",
    "        self.fc = nn.Linear(self._feature_vector_dimension, n_classes)\n",
    "        self.sigmoid = nn.Sigmoid()\n",
    "\n",
    "    def forward(self, x):\n",
    "        x = self.base_model(x)\n",
    "        features = x.view(x.size(0), -1)\n",
    "        return self.fc(features)\n",
    "\n",
    "    def extract_features(self,x):\n",
    "        x = self.base_model(x)\n",
    "        return x.view(x.size(0), -1)\n",
    "\n",
    "    def get_predictions(self,x):\n",
    "        x = self.base_model(x)\n",
    "        features = x.view(x.size(0), -1)\n",
    "        output = self.fc(features)\n",
    "        if self.n_classes == 1:\n",
    "            return torch.sigmoid(output)\n",
    "        else:\n",
    "            return torch.softmax(output,dim=1)\n",
    "\n",
    "    def get_predictions_and_features(self,x):\n",
    "        x = self.base_model(x)\n",
    "        features = x.view(x.size(0), -1)\n",
    "        output = self.fc(features)\n",
    "        if self.n_classes == 1:\n",
    "            return torch.sigmoid(output), features\n",
    "        else:\n",
    "            return torch.softmax(output,dim=1), features"
   ]
  },
  {
   "cell_type": "code",
   "execution_count": 13,
   "metadata": {},
   "outputs": [
    {
     "name": "stdout",
     "output_type": "stream",
     "text": [
      "False\n"
     ]
    }
   ],
   "source": [
    "# make the network sklearn compatible\n",
    "print(torch.cuda.is_available())\n",
    "if torch.cuda.is_available():\n",
    "    model_skorch = NeuralNetClassifier(ResNet,max_epochs=max_epochs,device='cuda')\n",
    "else:\n",
    "    model_skorch = NeuralNetClassifier(ResNet,max_epochs=max_epochs,device='cpu')"
   ]
  },
  {
   "cell_type": "code",
   "execution_count": 16,
   "metadata": {},
   "outputs": [
    {
     "name": "stdout",
     "output_type": "stream",
     "text": [
      "pos samples:  (76126, 4, 31, 31)\n",
      "neg samples:  (744187, 4, 31, 31)\n",
      "total samples:  (820313, 4, 31, 31)\n"
     ]
    }
   ],
   "source": [
    "# load data\n",
    "# load positive data\n",
    "data_positive = np.load('../data/combined_images_parasite.npy')/255.0\n",
    "label_positive = np.ones(data_positive.shape[0])\n",
    "print(\"pos samples: \", data_positive.shape)\n",
    "\n",
    "# load negative data\n",
    "data_negative = np.load('../data/combined_images_neg.npy')/255.0\n",
    "# random_indexes = np.random.randint(0, data_negative.shape[0], size=min(data_negative.shape[0],2000))\n",
    "# data_negative = data_negative[random_indexes,:,:,:]\n",
    "# label_negative = np.zeros(data_negative.shape[0])\n",
    "label_negative = np.zeros(data_negative.shape[0])\n",
    "print(\"neg samples: \", data_negative.shape)\n",
    "\n",
    "# combine positive and negative\n",
    "data = np.concatenate((data_positive,data_negative),axis=0) # [:2000] TODO: just for testing, get first 2000 pos\n",
    "label = np.concatenate((label_positive,label_negative))\n",
    "print(\"total samples: \", data.shape)"
   ]
  },
  {
   "cell_type": "code",
   "execution_count": null,
   "metadata": {},
   "outputs": [],
   "source": [
    "# save the data to file\n",
    "\n",
    "# import pandas as pd\n",
    "# df = pd.DataFrame({'index': range(len(label)), 'annotation': label.astype(\"int64\")})\n",
    "# np.save('combined_images_parasite_and_non-parasite.npy', data)\n",
    "# np.save('combined_ann_parasite_and_non=parasite.npy', label)\n",
    "# df.to_csv('combined_ann_parasite_and_non=parasite.csv', index=False)"
   ]
  },
  {
   "cell_type": "code",
   "execution_count": null,
   "metadata": {},
   "outputs": [],
   "source": [
    "-# shuffle\n",
    "indices = np.random.choice(len(data), len(data), replace=False)\n",
    "data = data[indices,:,:,:]\n",
    "label = label[indices]\n",
    "\n",
    "data = data.astype(\"float32\")\n",
    "label = label.astype(\"int64\")\n",
    "print(label.shape)"
   ]
  },
  {
   "cell_type": "code",
   "execution_count": 7,
   "metadata": {},
   "outputs": [
    {
     "name": "stderr",
     "output_type": "stream",
     "text": [
      "/home/squid/.local/lib/python3.10/site-packages/torchvision/models/_utils.py:208: UserWarning: The parameter 'pretrained' is deprecated since 0.13 and may be removed in the future, please use 'weights' instead.\n",
      "  warnings.warn(\n",
      "/home/squid/.local/lib/python3.10/site-packages/torchvision/models/_utils.py:223: UserWarning: Arguments other than a weight enum or `None` for 'weights' are deprecated since 0.13 and may be removed in the future. The current behavior is equivalent to passing `weights=ResNet18_Weights.IMAGENET1K_V1`. You can also use `weights=ResNet18_Weights.DEFAULT` to get the most up-to-date weights.\n",
      "  warnings.warn(msg)\n"
     ]
    },
    {
     "name": "stdout",
     "output_type": "stream",
     "text": [
      "  epoch    train_loss    valid_acc    valid_loss     dur\n",
      "-------  ------------  -----------  ------------  ------\n",
      "      1           nan       \u001b[32m0.3141\u001b[0m           nan  9.2034\n",
      "      2           nan       0.2656           nan  9.1737\n",
      "      3           nan       0.1203           nan  9.1411\n",
      "      4           nan       0.0953           nan  8.6913\n",
      "      5           nan       0.0875           nan  7.4293\n"
     ]
    },
    {
     "name": "stderr",
     "output_type": "stream",
     "text": [
      "/home/squid/.local/lib/python3.10/site-packages/torchvision/models/_utils.py:208: UserWarning: The parameter 'pretrained' is deprecated since 0.13 and may be removed in the future, please use 'weights' instead.\n",
      "  warnings.warn(\n",
      "/home/squid/.local/lib/python3.10/site-packages/torchvision/models/_utils.py:223: UserWarning: Arguments other than a weight enum or `None` for 'weights' are deprecated since 0.13 and may be removed in the future. The current behavior is equivalent to passing `weights=ResNet18_Weights.IMAGENET1K_V1`. You can also use `weights=ResNet18_Weights.DEFAULT` to get the most up-to-date weights.\n",
      "  warnings.warn(msg)\n"
     ]
    },
    {
     "name": "stdout",
     "output_type": "stream",
     "text": [
      "  epoch    train_loss    valid_acc    valid_loss     dur\n",
      "-------  ------------  -----------  ------------  ------\n",
      "      1           nan       \u001b[32m0.5000\u001b[0m           nan  8.8361\n",
      "      2           nan       0.5000           nan  7.3281\n",
      "      3           nan       0.5000           nan  7.4063\n",
      "      4           nan       0.5000           nan  7.7529\n",
      "      5           nan       0.5000           nan  7.6279\n"
     ]
    },
    {
     "name": "stderr",
     "output_type": "stream",
     "text": [
      "/home/squid/.local/lib/python3.10/site-packages/torchvision/models/_utils.py:208: UserWarning: The parameter 'pretrained' is deprecated since 0.13 and may be removed in the future, please use 'weights' instead.\n",
      "  warnings.warn(\n",
      "/home/squid/.local/lib/python3.10/site-packages/torchvision/models/_utils.py:223: UserWarning: Arguments other than a weight enum or `None` for 'weights' are deprecated since 0.13 and may be removed in the future. The current behavior is equivalent to passing `weights=ResNet18_Weights.IMAGENET1K_V1`. You can also use `weights=ResNet18_Weights.DEFAULT` to get the most up-to-date weights.\n",
      "  warnings.warn(msg)\n"
     ]
    },
    {
     "name": "stdout",
     "output_type": "stream",
     "text": [
      "  epoch    train_loss    valid_acc    valid_loss     dur\n",
      "-------  ------------  -----------  ------------  ------\n",
      "      1           nan       \u001b[32m0.5000\u001b[0m           nan  7.6320\n",
      "      2           nan       0.5000           nan  9.2833\n",
      "      3           nan       0.5000           nan  8.9653\n",
      "      4           nan       0.5000           nan  8.8405\n",
      "      5           nan       0.5000           nan  9.3633\n"
     ]
    },
    {
     "name": "stderr",
     "output_type": "stream",
     "text": [
      "/home/squid/.local/lib/python3.10/site-packages/torchvision/models/_utils.py:208: UserWarning: The parameter 'pretrained' is deprecated since 0.13 and may be removed in the future, please use 'weights' instead.\n",
      "  warnings.warn(\n",
      "/home/squid/.local/lib/python3.10/site-packages/torchvision/models/_utils.py:223: UserWarning: Arguments other than a weight enum or `None` for 'weights' are deprecated since 0.13 and may be removed in the future. The current behavior is equivalent to passing `weights=ResNet18_Weights.IMAGENET1K_V1`. You can also use `weights=ResNet18_Weights.DEFAULT` to get the most up-to-date weights.\n",
      "  warnings.warn(msg)\n"
     ]
    },
    {
     "name": "stdout",
     "output_type": "stream",
     "text": [
      "  epoch    train_loss    valid_acc    valid_loss     dur\n",
      "-------  ------------  -----------  ------------  ------\n",
      "      1           nan       \u001b[32m0.5000\u001b[0m           nan  9.3131\n",
      "      2           nan       0.5000           nan  9.7748\n",
      "      3           nan       0.5000           nan  8.5288\n",
      "      4           nan       0.5000           nan  9.3144\n",
      "      5           nan       0.5000           nan  9.3797\n"
     ]
    },
    {
     "name": "stderr",
     "output_type": "stream",
     "text": [
      "/home/squid/.local/lib/python3.10/site-packages/torchvision/models/_utils.py:208: UserWarning: The parameter 'pretrained' is deprecated since 0.13 and may be removed in the future, please use 'weights' instead.\n",
      "  warnings.warn(\n",
      "/home/squid/.local/lib/python3.10/site-packages/torchvision/models/_utils.py:223: UserWarning: Arguments other than a weight enum or `None` for 'weights' are deprecated since 0.13 and may be removed in the future. The current behavior is equivalent to passing `weights=ResNet18_Weights.IMAGENET1K_V1`. You can also use `weights=ResNet18_Weights.DEFAULT` to get the most up-to-date weights.\n",
      "  warnings.warn(msg)\n"
     ]
    },
    {
     "name": "stdout",
     "output_type": "stream",
     "text": [
      "  epoch    train_loss    valid_acc    valid_loss     dur\n",
      "-------  ------------  -----------  ------------  ------\n",
      "      1           nan       \u001b[32m0.5000\u001b[0m           nan  8.5336\n",
      "      2           nan       0.5000           nan  8.4787\n",
      "      3           nan       0.5000           nan  9.4265\n",
      "      4           nan       0.5000           nan  9.2578\n",
      "      5           nan       0.5000           nan  9.1326\n"
     ]
    }
   ],
   "source": [
    "# compute out-of-sample predicted probabilities\n",
    "pred_probs = cross_val_predict(\n",
    "    model_skorch,\n",
    "    data,\n",
    "    label,\n",
    "    cv=num_crossval_folds,\n",
    "    verbose=1,\n",
    "    method=\"predict_proba\",\n",
    ")"
   ]
  },
  {
   "cell_type": "code",
   "execution_count": 9,
   "metadata": {},
   "outputs": [
    {
     "name": "stdout",
     "output_type": "stream",
     "text": [
      "Cross-validated estimate of accuracy on held-out data: 0.41225\n"
     ]
    }
   ],
   "source": [
    "predicted_labels = pred_probs.argmax(axis=1)\n",
    "\n",
    "acc = accuracy_score(label, predicted_labels)\n",
    "print(f\"Cross-validated estimate of accuracy on held-out data: {acc}\")"
   ]
  },
  {
   "cell_type": "code",
   "execution_count": 11,
   "metadata": {},
   "outputs": [
    {
     "data": {
      "text/plain": [
       "array([[-21.042198, -10.585772],\n",
       "       [-20.357294, -20.46756 ],\n",
       "       [-22.115055, -10.822799],\n",
       "       ...,\n",
       "       [-14.730211,  46.487206],\n",
       "       [-14.644593,  31.0262  ],\n",
       "       [-38.34266 ,   8.534811]], dtype=float32)"
      ]
     },
     "execution_count": 11,
     "metadata": {},
     "output_type": "execute_result"
    }
   ],
   "source": [
    "pred_probs"
   ]
  },
  {
   "cell_type": "code",
   "execution_count": null,
   "metadata": {},
   "outputs": [],
   "source": [
    "# Use cleanlab to find label issues\n",
    "from cleanlab.filter import find_label_issues\n",
    "\n",
    "ranked_label_issues = find_label_issues(\n",
    "    label,\n",
    "    pred_probs,\n",
    "    return_indices_ranked_by=\"self_confidence\",\n",
    ")\n",
    "\n",
    "print(f\"Cleanlab found {len(ranked_label_issues)} label issues.\")\n",
    "print(f\"Top 15 most likely label errors: \\n {ranked_label_issues[:15]}\")"
   ]
  }
 ],
 "metadata": {
  "kernelspec": {
   "display_name": "Python 3",
   "language": "python",
   "name": "python3"
  },
  "language_info": {
   "codemirror_mode": {
    "name": "ipython",
    "version": 3
   },
   "file_extension": ".py",
   "mimetype": "text/x-python",
   "name": "python",
   "nbconvert_exporter": "python",
   "pygments_lexer": "ipython3",
   "version": "3.10.12"
  }
 },
 "nbformat": 4,
 "nbformat_minor": 2
}
