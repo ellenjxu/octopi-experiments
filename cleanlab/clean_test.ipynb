{
 "cells": [
  {
   "cell_type": "code",
   "execution_count": 1,
   "metadata": {},
   "outputs": [],
   "source": [
    "import os\n",
    "import utils\n",
    "import pandas as pd\n",
    "import torch\n",
    "import numpy as np\n",
    "import matplotlib.pyplot as plt"
   ]
  },
  {
   "cell_type": "markdown",
   "metadata": {},
   "source": [
    "entire dataset (unlabeled)"
   ]
  },
  {
   "cell_type": "code",
   "execution_count": 3,
   "metadata": {},
   "outputs": [],
   "source": [
    "dir_path = '../../model_output/'\n",
    "if not os.path.exists(dir_path):\n",
    "    raise FileNotFoundError(f\"The directory {dir_path} does not exist.\")"
   ]
  },
  {
   "cell_type": "code",
   "execution_count": 4,
   "metadata": {},
   "outputs": [],
   "source": [
    "csv_files = [f for f in os.listdir(dir_path) if f.endswith('.csv')]\n",
    "dfs = []\n",
    "\n",
    "# loop through CSV files and append them to the dfs list\n",
    "for file in csv_files:\n",
    "    file_path = os.path.join(dir_path, file)\n",
    "    df = pd.read_csv(file_path)\n",
    "    dfs.append(df)\n",
    "\n",
    "# combine to a single DataFrame\n",
    "combined_df = pd.concat(dfs, ignore_index=True)"
   ]
  },
  {
   "cell_type": "code",
   "execution_count": 5,
   "metadata": {},
   "outputs": [
    {
     "data": {
      "text/html": [
       "<div>\n",
       "<style scoped>\n",
       "    .dataframe tbody tr th:only-of-type {\n",
       "        vertical-align: middle;\n",
       "    }\n",
       "\n",
       "    .dataframe tbody tr th {\n",
       "        vertical-align: top;\n",
       "    }\n",
       "\n",
       "    .dataframe thead th {\n",
       "        text-align: right;\n",
       "    }\n",
       "</style>\n",
       "<table border=\"1\" class=\"dataframe\">\n",
       "  <thead>\n",
       "    <tr style=\"text-align: right;\">\n",
       "      <th></th>\n",
       "      <th>index</th>\n",
       "      <th>annotation</th>\n",
       "      <th>non-parasite output</th>\n",
       "      <th>parasite output</th>\n",
       "      <th>unsure output</th>\n",
       "    </tr>\n",
       "  </thead>\n",
       "  <tbody>\n",
       "    <tr>\n",
       "      <th>0</th>\n",
       "      <td>95460</td>\n",
       "      <td>-1</td>\n",
       "      <td>2.186631e-07</td>\n",
       "      <td>0.999920</td>\n",
       "      <td>0.000080</td>\n",
       "    </tr>\n",
       "    <tr>\n",
       "      <th>1</th>\n",
       "      <td>174898</td>\n",
       "      <td>-1</td>\n",
       "      <td>5.829984e-07</td>\n",
       "      <td>0.999800</td>\n",
       "      <td>0.000200</td>\n",
       "    </tr>\n",
       "    <tr>\n",
       "      <th>2</th>\n",
       "      <td>153849</td>\n",
       "      <td>-1</td>\n",
       "      <td>6.457012e-06</td>\n",
       "      <td>0.999766</td>\n",
       "      <td>0.000228</td>\n",
       "    </tr>\n",
       "    <tr>\n",
       "      <th>3</th>\n",
       "      <td>108502</td>\n",
       "      <td>-1</td>\n",
       "      <td>6.806655e-07</td>\n",
       "      <td>0.999699</td>\n",
       "      <td>0.000300</td>\n",
       "    </tr>\n",
       "    <tr>\n",
       "      <th>4</th>\n",
       "      <td>129384</td>\n",
       "      <td>-1</td>\n",
       "      <td>1.702819e-06</td>\n",
       "      <td>0.999681</td>\n",
       "      <td>0.000317</td>\n",
       "    </tr>\n",
       "  </tbody>\n",
       "</table>\n",
       "</div>"
      ],
      "text/plain": [
       "    index  annotation  non-parasite output  parasite output  unsure output\n",
       "0   95460          -1         2.186631e-07         0.999920       0.000080\n",
       "1  174898          -1         5.829984e-07         0.999800       0.000200\n",
       "2  153849          -1         6.457012e-06         0.999766       0.000228\n",
       "3  108502          -1         6.806655e-07         0.999699       0.000300\n",
       "4  129384          -1         1.702819e-06         0.999681       0.000317"
      ]
     },
     "execution_count": 5,
     "metadata": {},
     "output_type": "execute_result"
    }
   ],
   "source": [
    "combined_df.head()"
   ]
  },
  {
   "cell_type": "code",
   "execution_count": 10,
   "metadata": {},
   "outputs": [
    {
     "data": {
      "text/plain": [
       "array([-1])"
      ]
     },
     "execution_count": 10,
     "metadata": {},
     "output_type": "execute_result"
    }
   ],
   "source": [
    "combined_df['annotation'].unique() # none of these have labels"
   ]
  },
  {
   "cell_type": "code",
   "execution_count": null,
   "metadata": {},
   "outputs": [],
   "source": [
    "lab = Datalab(data=combined_df, label_name=\"annotation\")\n",
    "lab.find_issues(pred_probs=pred_probs)\n",
    "lab.report()  # summarize issues in dataset, how severe they are, ..."
   ]
  },
  {
   "cell_type": "markdown",
   "metadata": {},
   "source": [
    "combined_images_parasite dataset"
   ]
  },
  {
   "cell_type": "code",
   "execution_count": 6,
   "metadata": {},
   "outputs": [
    {
     "name": "stderr",
     "output_type": "stream",
     "text": [
      "/home/squid/.local/lib/python3.10/site-packages/torch/cuda/__init__.py:138: UserWarning: CUDA initialization: CUDA unknown error - this may be due to an incorrectly set up environment, e.g. changing env variable CUDA_VISIBLE_DEVICES after program start. Setting the available devices to be zero. (Triggered internally at ../c10/cuda/CUDAFunctions.cpp:108.)\n",
      "  return torch._C._cuda_getDeviceCount() > 0\n"
     ]
    }
   ],
   "source": [
    "dir_in = '../'\n",
    "pos_image_path = 'combined_images_parasite'\n",
    "model_path = 'model_perf_r34_b32'\n",
    "\n",
    "if torch.cuda.is_available():\n",
    "    loaded_model = torch.load(dir_in + model_path + '.pt')\n",
    "else:\n",
    "    loaded_model = torch.load(dir_in + model_path + '.pt',map_location=torch.device('cpu'))\n",
    "\n",
    "pos_images = np.load(dir_in + 'data/' + pos_image_path + '.npy')"
   ]
  },
  {
   "cell_type": "code",
   "execution_count": 7,
   "metadata": {},
   "outputs": [
    {
     "name": "stdout",
     "output_type": "stream",
     "text": [
      "running inference on 76126 images took 94.34033226966858 s\n"
     ]
    }
   ],
   "source": [
    "preds, features = utils.generate_predictions_and_features(loaded_model,pos_images,32)"
   ]
  },
  {
   "cell_type": "code",
   "execution_count": 9,
   "metadata": {},
   "outputs": [],
   "source": [
    "np.save('pos_preds.npy', preds)\n",
    "np.save('pos_features.npy', features)"
   ]
  },
  {
   "cell_type": "markdown",
   "metadata": {},
   "source": [
    "new code (for testing purposes only, needs to have out-of-sample preds from CV)"
   ]
  },
  {
   "cell_type": "code",
   "execution_count": 7,
   "metadata": {},
   "outputs": [
    {
     "name": "stderr",
     "output_type": "stream",
     "text": [
      "/home/squid/.local/lib/python3.10/site-packages/torch/cuda/__init__.py:138: UserWarning: CUDA initialization: CUDA unknown error - this may be due to an incorrectly set up environment, e.g. changing env variable CUDA_VISIBLE_DEVICES after program start. Setting the available devices to be zero. (Triggered internally at ../c10/cuda/CUDAFunctions.cpp:108.)\n",
      "  return torch._C._cuda_getDeviceCount() > 0\n"
     ]
    }
   ],
   "source": [
    "dir_in = '../'\n",
    "pos_image_path = 'combined_images_parasite'\n",
    "model_path = 'model_perf_r34_b32'\n",
    "\n",
    "if torch.cuda.is_available():\n",
    "    loaded_model = torch.load(dir_in + model_path + '.pt')\n",
    "else:\n",
    "    loaded_model = torch.load(dir_in + model_path + '.pt',map_location=torch.device('cpu'))\n",
    "\n",
    "pos_images = np.load(dir_in + 'data/' + pos_image_path + '.npy')"
   ]
  },
  {
   "cell_type": "code",
   "execution_count": 8,
   "metadata": {},
   "outputs": [],
   "source": [
    "preds = np.load('pos_preds.npy')\n",
    "features = np.load('pos_preds.npy')\n",
    "labels = np.ones(len(preds))"
   ]
  },
  {
   "cell_type": "code",
   "execution_count": 11,
   "metadata": {},
   "outputs": [],
   "source": [
    "data = {'image': pos_images, 'label': np.ones(len(pos_images))}"
   ]
  },
  {
   "cell_type": "code",
   "execution_count": 12,
   "metadata": {},
   "outputs": [
    {
     "name": "stdout",
     "output_type": "stream",
     "text": [
      "Finding label issues ...\n",
      "Error in label: Labels must contain at least 2 classes.\n",
      "Finding outlier issues ...\n",
      "Fitting OOD estimator based on provided features ...\n",
      "Finding near_duplicate issues ...\n",
      "Finding non_iid issues ...\n",
      "Failed to check for these issue types: [LabelIssueManager]\n",
      "Finding dark, light, low_information, odd_aspect_ratio, odd_size, grayscale, blurry images ...\n"
     ]
    },
    {
     "name": "stderr",
     "output_type": "stream",
     "text": [
      "  0%|          | 0/76126 [00:00<?, ?it/s]\n"
     ]
    },
    {
     "name": "stdout",
     "output_type": "stream",
     "text": [
      "Error in checking for image issues: 'list' object has no attribute 'width'\n",
      "\n",
      "Audit complete. 28741 issues found in the dataset.\n"
     ]
    }
   ],
   "source": [
    "from cleanlab import Datalab\n",
    "\n",
    "# Create a Datalab instance\n",
    "lab = Datalab(data=data, label_name=\"label\", image_key=\"image\")\n",
    "\n",
    "# Find issues in the dataset\n",
    "issues = lab.find_issues(features=features, pred_probs=preds)"
   ]
  },
  {
   "cell_type": "code",
   "execution_count": 13,
   "metadata": {},
   "outputs": [
    {
     "name": "stdout",
     "output_type": "stream",
     "text": [
      "Here is a summary of the different kinds of issues found in the data:\n",
      "\n",
      "    issue_type  num_issues\n",
      "near_duplicate       18365\n",
      "       outlier       10376\n",
      "       non_iid           0\n",
      "\n",
      "Dataset Information: num_examples: 76126, num_classes: 1\n",
      "\n",
      "\n",
      "------------------ near_duplicate issues -------------------\n",
      "\n",
      "About this issue:\n",
      "\tA (near) duplicate issue refers to two or more examples in\n",
      "    a dataset that are extremely similar to each other, relative\n",
      "    to the rest of the dataset.  The examples flagged with this issue\n",
      "    may be exactly duplicated, or lie atypically close together when\n",
      "    represented as vectors (i.e. feature embeddings).\n",
      "    \n",
      "\n",
      "Number of examples with this issue: 18365\n",
      "Overall dataset quality in terms of this issue: 0.0003\n",
      "\n",
      "Examples representing most severe instances of this issue:\n",
      "       is_near_duplicate_issue  near_duplicate_score                                                                                near_duplicate_sets  distance_to_nearest_neighbor\n",
      "70849                     True          7.617901e-10                               [14281, 49405, 24707, 67932, 57267, 47430, 13526, 8417, 8682, 27792]                  7.617901e-10\n",
      "14281                     True          7.617901e-10                               [70849, 49405, 24707, 67932, 57267, 47430, 13526, 8417, 8682, 27792]                  7.617901e-10\n",
      "40318                     True          3.130214e-09                                                   [5549, 47206, 74570, 73795, 48622, 73311, 30421]                  3.130214e-09\n",
      "5549                      True          3.130214e-09                                                  [40318, 47206, 74570, 73795, 48622, 73311, 30421]                  3.130214e-09\n",
      "65890                     True          3.697331e-09  [69275, 21598, 28920, 18450, 46326, 39990, 17810, 58811, 43314, 66375, 6246, 25204, 58699, 58829]                  3.697331e-09\n",
      "\n",
      "\n",
      "---------------------- outlier issues ----------------------\n",
      "\n",
      "About this issue:\n",
      "\tExamples that are very different from the rest of the dataset \n",
      "    (i.e. potentially out-of-distribution or rare/anomalous instances).\n",
      "    \n",
      "\n",
      "Number of examples with this issue: 10376\n",
      "Overall dataset quality in terms of this issue: 0.9992\n",
      "\n",
      "Examples representing most severe instances of this issue:\n",
      "       is_outlier_issue  outlier_score\n",
      "1300               True       0.871868\n",
      "38075              True       0.884089\n",
      "27053              True       0.894839\n",
      "53185              True       0.895803\n",
      "44468              True       0.897788\n",
      "\n",
      "\n",
      "---------------------- non_iid issues ----------------------\n",
      "\n",
      "About this issue:\n",
      "\tWhether the dataset exhibits statistically significant\n",
      "    violations of the IID assumption like:\n",
      "    changepoints or shift, drift, autocorrelation, etc.\n",
      "    The specific violation considered is whether the\n",
      "    examples are ordered such that almost adjacent examples\n",
      "    tend to have more similar feature values.\n",
      "    \n",
      "\n",
      "Number of examples with this issue: 0\n",
      "Overall dataset quality in terms of this issue: 0.7723\n",
      "\n",
      "Examples representing most severe instances of this issue:\n",
      "       is_non_iid_issue  non_iid_score\n",
      "65505             False       0.623191\n",
      "14082             False       0.651928\n",
      "67391             False       0.652599\n",
      "47760             False       0.656266\n",
      "12942             False       0.657307\n",
      "\n",
      "Additional Information: \n",
      "p-value: 0.7723299418756793\n",
      "\n",
      "\n",
      "\n",
      "Please specify some issue_types to check for in imagelab.find_issues().\n"
     ]
    }
   ],
   "source": [
    "lab.report()"
   ]
  },
  {
   "cell_type": "code",
   "execution_count": null,
   "metadata": {},
   "outputs": [],
   "source": []
  }
 ],
 "metadata": {
  "kernelspec": {
   "display_name": "Python 3",
   "language": "python",
   "name": "python3"
  },
  "language_info": {
   "codemirror_mode": {
    "name": "ipython",
    "version": 3
   },
   "file_extension": ".py",
   "mimetype": "text/x-python",
   "name": "python",
   "nbconvert_exporter": "python",
   "pygments_lexer": "ipython3",
   "version": "3.10.12"
  }
 },
 "nbformat": 4,
 "nbformat_minor": 2
}
