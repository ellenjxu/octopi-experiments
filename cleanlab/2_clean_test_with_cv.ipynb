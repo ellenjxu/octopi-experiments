{
 "cells": [
  {
   "cell_type": "code",
   "execution_count": 2,
   "metadata": {},
   "outputs": [],
   "source": [
    "# inputs (per fold, from train_model_cv.py): indices.npy, preds.npy, features.npy, labels.npy\n",
    "# output: cleanlab results for data issues\n",
    "\n",
    "# https://docs.cleanlab.ai/stable/tutorials/image.html"
   ]
  },
  {
   "cell_type": "code",
   "execution_count": 1,
   "metadata": {},
   "outputs": [
    {
     "name": "stderr",
     "output_type": "stream",
     "text": [
      "/home/squid/.local/lib/python3.10/site-packages/tqdm/auto.py:21: TqdmWarning: IProgress not found. Please update jupyter and ipywidgets. See https://ipywidgets.readthedocs.io/en/stable/user_install.html\n",
      "  from .autonotebook import tqdm as notebook_tqdm\n",
      "/usr/lib/python3/dist-packages/scipy/__init__.py:146: UserWarning: A NumPy version >=1.17.3 and <1.25.0 is required for this version of SciPy (detected version 1.26.1\n",
      "  warnings.warn(f\"A NumPy version >={np_minversion} and <{np_maxversion}\"\n"
     ]
    }
   ],
   "source": [
    "import torch\n",
    "import numpy as np\n",
    "import pandas as pd\n",
    "from cleanlab import Datalab"
   ]
  },
  {
   "cell_type": "code",
   "execution_count": 2,
   "metadata": {},
   "outputs": [],
   "source": [
    "indices_list = []\n",
    "embeddings_list = []\n",
    "pred_probs_list = []\n",
    "\n",
    "input_dir = \"../cleanlab/outputs/\"\n",
    "\n",
    "for i in range(1,6):\n",
    "    indices_list.extend(np.load(f\"{input_dir}resnet34_indices_fold_{i}.npy\"))\n",
    "    embeddings_list.extend(np.load(f\"{input_dir}resnet34_features_fold_{i}.npy\"))\n",
    "    pred_probs_list.extend(np.load(f\"{input_dir}resnet34_preds_fold_{i}.npy\"))"
   ]
  },
  {
   "cell_type": "code",
   "execution_count": 3,
   "metadata": {},
   "outputs": [
    {
     "data": {
      "text/plain": [
       "200000"
      ]
     },
     "execution_count": 3,
     "metadata": {},
     "output_type": "execute_result"
    }
   ],
   "source": [
    "len(pred_probs_list)"
   ]
  },
  {
   "cell_type": "code",
   "execution_count": 8,
   "metadata": {},
   "outputs": [
    {
     "data": {
      "text/plain": [
       "((200000, 512), (200000, 2))"
      ]
     },
     "execution_count": 8,
     "metadata": {},
     "output_type": "execute_result"
    }
   ],
   "source": [
    "# embeddings_list = np.concatenate(embeddings_list, axis=0)\n",
    "# pred_probs_list = np.concatenate(pred_probs_list, axis=0)\n",
    "\n",
    "# rearrange by indice\n",
    "features = np.empty_like(embeddings_list)\n",
    "preds = np.empty_like(pred_probs_list)\n",
    "\n",
    "for i, idx in enumerate(indices_list):\n",
    "    features[idx] = embeddings_list[i]\n",
    "    preds[idx] = pred_probs_list[i]\n",
    "\n",
    "features.shape, preds.shape"
   ]
  },
  {
   "cell_type": "code",
   "execution_count": 5,
   "metadata": {},
   "outputs": [],
   "source": [
    "# load images\n",
    "ims_path = '../data/combined_images_parasite_and_non-parasite.npy'\n",
    "label_path = '../data/combined_ann_parasite_and_non-parasite.csv'\n",
    "\n",
    "images = np.load(ims_path)\n",
    "labels_df = pd.read_csv(label_path, index_col='index')\n",
    "labels = labels_df['annotation'].values"
   ]
  },
  {
   "cell_type": "code",
   "execution_count": 10,
   "metadata": {},
   "outputs": [],
   "source": [
    "# TODO: testing with 200,000 images\n",
    "labels = labels[:200000]\n",
    "images = images[:200000]"
   ]
  },
  {
   "cell_type": "code",
   "execution_count": 6,
   "metadata": {},
   "outputs": [],
   "source": [
    "dataset = {'image': images, 'label': labels}"
   ]
  },
  {
   "cell_type": "markdown",
   "metadata": {},
   "source": [
    "find issues"
   ]
  },
  {
   "cell_type": "code",
   "execution_count": 9,
   "metadata": {},
   "outputs": [
    {
     "ename": "",
     "evalue": "",
     "output_type": "error",
     "traceback": [
      "\u001b[1;31mThe Kernel crashed while executing code in the the current cell or a previous cell. Please review the code in the cell(s) to identify a possible cause of the failure. Click <a href='https://aka.ms/vscodeJupyterKernelCrash'>here</a> for more info. View Jupyter <a href='command:jupyter.viewOutput'>log</a> for further details."
     ]
    }
   ],
   "source": [
    "lab = Datalab(data=dataset, label_name=\"label\", image_key=\"image\")\n",
    "lab.find_issues(features=features, pred_probs=preds)"
   ]
  },
  {
   "cell_type": "code",
   "execution_count": null,
   "metadata": {},
   "outputs": [],
   "source": [
    "lab.report()"
   ]
  },
  {
   "cell_type": "markdown",
   "metadata": {},
   "source": [
    "label issues"
   ]
  },
  {
   "cell_type": "code",
   "execution_count": 11,
   "metadata": {},
   "outputs": [
    {
     "name": "stdout",
     "output_type": "stream",
     "text": [
      "Cleanlab found 5 label issues.\n",
      "Top 15 most likely label errors: \n",
      " [ 45381  97805  78254 105971  78434]\n"
     ]
    }
   ],
   "source": [
    "# Use cleanlab to find label issues\n",
    "from cleanlab.filter import find_label_issues\n",
    "\n",
    "ranked_label_issues = find_label_issues(\n",
    "    labels,\n",
    "    preds,\n",
    "    return_indices_ranked_by=\"self_confidence\",\n",
    ")\n",
    "\n",
    "print(f\"Cleanlab found {len(ranked_label_issues)} label issues.\")\n",
    "print(f\"Top 15 most likely label errors: \\n {ranked_label_issues[:15]}\")"
   ]
  },
  {
   "cell_type": "code",
   "execution_count": null,
   "metadata": {},
   "outputs": [],
   "source": [
    "# display the images"
   ]
  }
 ],
 "metadata": {
  "kernelspec": {
   "display_name": "Python 3",
   "language": "python",
   "name": "python3"
  },
  "language_info": {
   "codemirror_mode": {
    "name": "ipython",
    "version": 3
   },
   "file_extension": ".py",
   "mimetype": "text/x-python",
   "name": "python",
   "nbconvert_exporter": "python",
   "pygments_lexer": "ipython3",
   "version": "3.10.12"
  }
 },
 "nbformat": 4,
 "nbformat_minor": 2
}
